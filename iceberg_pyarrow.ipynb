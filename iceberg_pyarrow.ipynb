{
 "cells": [
  {
   "cell_type": "code",
   "execution_count": 1,
   "id": "e8c68b74-a43a-45f2-9c5b-873caa75fc99",
   "metadata": {
    "tags": []
   },
   "outputs": [],
   "source": [
    "from pyiceberg.catalog import load_catalog\n",
    "\n",
    "catalog = load_catalog(\"glue_catalog\")"
   ]
  },
  {
   "cell_type": "code",
   "execution_count": 2,
   "id": "3344cf7c-e312-4968-8591-4e7ed45715a8",
   "metadata": {
    "tags": []
   },
   "outputs": [
    {
     "data": {
      "text/plain": [
       "[('default',), ('iceberg_demo',)]"
      ]
     },
     "execution_count": 2,
     "metadata": {},
     "output_type": "execute_result"
    }
   ],
   "source": [
    "catalog.list_namespaces()"
   ]
  },
  {
   "cell_type": "code",
   "execution_count": 3,
   "id": "5c0d9208-573b-482e-926f-2877292af89a",
   "metadata": {
    "tags": []
   },
   "outputs": [
    {
     "data": {
      "text/plain": [
       "[('iceberg_demo', 'nyc_taxis')]"
      ]
     },
     "execution_count": 3,
     "metadata": {},
     "output_type": "execute_result"
    }
   ],
   "source": [
    "catalog.list_tables(\"iceberg_demo\")"
   ]
  },
  {
   "cell_type": "code",
   "execution_count": 4,
   "id": "9b7d1321-d1ae-418f-94f7-6fce39c022e5",
   "metadata": {
    "tags": []
   },
   "outputs": [],
   "source": [
    "table = catalog.load_table(\"iceberg_demo.nyc_taxis\")"
   ]
  },
  {
   "cell_type": "code",
   "execution_count": 17,
   "id": "a798015e-a768-43b0-bf63-e759966c6d4a",
   "metadata": {
    "tags": []
   },
   "outputs": [],
   "source": [
    "from pyiceberg.catalog import load_catalog\n",
    "from pyiceberg.expressions import GreaterThanOrEqual, LessThanOrEqual, EqualTo, And\n",
    "\n",
    "scan = table.scan(\n",
    "    row_filter=And( GreaterThanOrEqual(\"passenger_count\", 1), EqualTo(\"vendor_id\", 1)),\n",
    "    selected_fields=(\"vendor_id\", \"passenger_count\"),\n",
    ")"
   ]
  },
  {
   "cell_type": "code",
   "execution_count": 6,
   "id": "aa403ec9-a3ea-44bd-a56b-50b3d2f42610",
   "metadata": {
    "tags": []
   },
   "outputs": [
    {
     "data": {
      "text/plain": [
       "['s3://varokas-iceberg-demo/iceberg/iceberg_demo.db/nyc_taxis/data/vendor_id=null/pickup_datetime_month=2016-04/00000-2-af2f3596-1829-4e0c-849b-749e3dda77c9-00001.parquet',\n",
       " 's3://varokas-iceberg-demo/iceberg/iceberg_demo.db/nyc_taxis/data/vendor_id=null/pickup_datetime_month=2016-03/00000-2-af2f3596-1829-4e0c-849b-749e3dda77c9-00002.parquet',\n",
       " 's3://varokas-iceberg-demo/iceberg/iceberg_demo.db/nyc_taxis/data/vendor_id=null/pickup_datetime_month=2016-02/00000-2-af2f3596-1829-4e0c-849b-749e3dda77c9-00003.parquet',\n",
       " 's3://varokas-iceberg-demo/iceberg/iceberg_demo.db/nyc_taxis/data/vendor_id=null/pickup_datetime_month=2016-01/00000-2-af2f3596-1829-4e0c-849b-749e3dda77c9-00004.parquet',\n",
       " 's3://varokas-iceberg-demo/iceberg/iceberg_demo.db/nyc_taxis/data/vendor_id=1/00000-1-f9e573b7-060d-48dc-8f2f-e915fec4a433-00001.parquet']"
      ]
     },
     "execution_count": 6,
     "metadata": {},
     "output_type": "execute_result"
    }
   ],
   "source": [
    "[task.file.file_path for task in scan.plan_files()]"
   ]
  },
  {
   "cell_type": "code",
   "execution_count": 7,
   "id": "3e0639cd-4f3a-4952-91c5-32119a871d9d",
   "metadata": {
    "tags": []
   },
   "outputs": [
    {
     "data": {
      "text/html": [
       "<div>\n",
       "<style scoped>\n",
       "    .dataframe tbody tr th:only-of-type {\n",
       "        vertical-align: middle;\n",
       "    }\n",
       "\n",
       "    .dataframe tbody tr th {\n",
       "        vertical-align: top;\n",
       "    }\n",
       "\n",
       "    .dataframe thead th {\n",
       "        text-align: right;\n",
       "    }\n",
       "</style>\n",
       "<table border=\"1\" class=\"dataframe\">\n",
       "  <thead>\n",
       "    <tr style=\"text-align: right;\">\n",
       "      <th></th>\n",
       "      <th>vendor_id</th>\n",
       "      <th>passenger_count</th>\n",
       "    </tr>\n",
       "  </thead>\n",
       "  <tbody>\n",
       "    <tr>\n",
       "      <th>0</th>\n",
       "      <td>1</td>\n",
       "      <td>2</td>\n",
       "    </tr>\n",
       "    <tr>\n",
       "      <th>1</th>\n",
       "      <td>1</td>\n",
       "      <td>1</td>\n",
       "    </tr>\n",
       "    <tr>\n",
       "      <th>2</th>\n",
       "      <td>1</td>\n",
       "      <td>3</td>\n",
       "    </tr>\n",
       "    <tr>\n",
       "      <th>3</th>\n",
       "      <td>1</td>\n",
       "      <td>2</td>\n",
       "    </tr>\n",
       "    <tr>\n",
       "      <th>4</th>\n",
       "      <td>1</td>\n",
       "      <td>1</td>\n",
       "    </tr>\n",
       "    <tr>\n",
       "      <th>...</th>\n",
       "      <td>...</td>\n",
       "      <td>...</td>\n",
       "    </tr>\n",
       "    <tr>\n",
       "      <th>290741</th>\n",
       "      <td>1</td>\n",
       "      <td>1</td>\n",
       "    </tr>\n",
       "    <tr>\n",
       "      <th>290742</th>\n",
       "      <td>1</td>\n",
       "      <td>3</td>\n",
       "    </tr>\n",
       "    <tr>\n",
       "      <th>290743</th>\n",
       "      <td>1</td>\n",
       "      <td>3</td>\n",
       "    </tr>\n",
       "    <tr>\n",
       "      <th>290744</th>\n",
       "      <td>1</td>\n",
       "      <td>4</td>\n",
       "    </tr>\n",
       "    <tr>\n",
       "      <th>290745</th>\n",
       "      <td>1</td>\n",
       "      <td>1</td>\n",
       "    </tr>\n",
       "  </tbody>\n",
       "</table>\n",
       "<p>290746 rows × 2 columns</p>\n",
       "</div>"
      ],
      "text/plain": [
       "        vendor_id  passenger_count\n",
       "0               1                2\n",
       "1               1                1\n",
       "2               1                3\n",
       "3               1                2\n",
       "4               1                1\n",
       "...           ...              ...\n",
       "290741          1                1\n",
       "290742          1                3\n",
       "290743          1                3\n",
       "290744          1                4\n",
       "290745          1                1\n",
       "\n",
       "[290746 rows x 2 columns]"
      ]
     },
     "execution_count": 7,
     "metadata": {},
     "output_type": "execute_result"
    }
   ],
   "source": [
    "scan.to_arrow().to_pandas()"
   ]
  },
  {
   "cell_type": "code",
   "execution_count": 26,
   "id": "3824762b-c29b-48ca-a75b-03b5d1631df7",
   "metadata": {
    "tags": []
   },
   "outputs": [],
   "source": [
    "from datetime import datetime\n",
    "import pytz\n",
    "\n",
    "scan2 = table.scan(\n",
    "    row_filter=GreaterThanOrEqual(\"pickup_datetime\", datetime(2016, 3, 1, 0, 0, 0, 0, pytz.UTC).isoformat()),\n",
    "    selected_fields=(\"pickup_datetime\", \"vendor_id\", \"passenger_count\"),\n",
    ")"
   ]
  },
  {
   "cell_type": "code",
   "execution_count": 27,
   "id": "092f297d-ac12-473d-ad1b-005f94145757",
   "metadata": {
    "tags": []
   },
   "outputs": [
    {
     "data": {
      "text/plain": [
       "['s3://varokas-iceberg-demo/iceberg/iceberg_demo.db/nyc_taxis/data/vendor_id=null/pickup_datetime_month=2016-04/00000-2-af2f3596-1829-4e0c-849b-749e3dda77c9-00001.parquet',\n",
       " 's3://varokas-iceberg-demo/iceberg/iceberg_demo.db/nyc_taxis/data/vendor_id=null/pickup_datetime_month=2016-03/00000-2-af2f3596-1829-4e0c-849b-749e3dda77c9-00002.parquet',\n",
       " 's3://varokas-iceberg-demo/iceberg/iceberg_demo.db/nyc_taxis/data/vendor_id=1/00000-1-f9e573b7-060d-48dc-8f2f-e915fec4a433-00001.parquet',\n",
       " 's3://varokas-iceberg-demo/iceberg/iceberg_demo.db/nyc_taxis/data/vendor_id=2/00000-1-f9e573b7-060d-48dc-8f2f-e915fec4a433-00002.parquet']"
      ]
     },
     "execution_count": 27,
     "metadata": {},
     "output_type": "execute_result"
    }
   ],
   "source": [
    "[task.file.file_path for task in scan2.plan_files()]"
   ]
  },
  {
   "cell_type": "code",
   "execution_count": 29,
   "id": "f9c154b0-3ded-49c7-9e4c-ba864d6ac263",
   "metadata": {},
   "outputs": [
    {
     "data": {
      "text/plain": [
       "['s3://varokas-iceberg-demo/iceberg/iceberg_demo.db/nyc_taxis_2/data/pickup_datetime_month=2016-03/00000-427-11506b24-7a46-405b-a1b3-95ead7a48930-00003.parquet',\n",
       " 's3://varokas-iceberg-demo/iceberg/iceberg_demo.db/nyc_taxis_2/data/pickup_datetime_month=2016-04/00000-427-11506b24-7a46-405b-a1b3-95ead7a48930-00004.parquet',\n",
       " 's3://varokas-iceberg-demo/iceberg/iceberg_demo.db/nyc_taxis_2/data/pickup_datetime_month=2016-05/00000-427-11506b24-7a46-405b-a1b3-95ead7a48930-00005.parquet',\n",
       " 's3://varokas-iceberg-demo/iceberg/iceberg_demo.db/nyc_taxis_2/data/pickup_datetime_month=2016-06/00000-427-11506b24-7a46-405b-a1b3-95ead7a48930-00006.parquet',\n",
       " 's3://varokas-iceberg-demo/iceberg/iceberg_demo.db/nyc_taxis_2/data/pickup_datetime_month=2016-07/00000-427-11506b24-7a46-405b-a1b3-95ead7a48930-00007.parquet']"
      ]
     },
     "execution_count": 29,
     "metadata": {},
     "output_type": "execute_result"
    }
   ],
   "source": [
    "from datetime import datetime\n",
    "import pytz\n",
    "\n",
    "table2 = catalog.load_table(\"iceberg_demo.nyc_taxis_2\")\n",
    "scan3 = table2.scan(\n",
    "    row_filter=GreaterThanOrEqual(\"pickup_datetime\", datetime(2016, 3, 1, 0, 0, 0, 0, pytz.UTC).isoformat()),\n",
    "    selected_fields=(\"pickup_datetime\", \"vendor_id\", \"passenger_count\"),\n",
    ")\n",
    "[task.file.file_path for task in scan3.plan_files()]"
   ]
  },
  {
   "cell_type": "code",
   "execution_count": null,
   "id": "04d0a015-2a1e-4bc1-960c-e071a799d695",
   "metadata": {},
   "outputs": [],
   "source": []
  }
 ],
 "metadata": {
  "kernelspec": {
   "display_name": "Python 3 (ipykernel)",
   "language": "python",
   "name": "python3"
  },
  "language_info": {
   "codemirror_mode": {
    "name": "ipython",
    "version": 3
   },
   "file_extension": ".py",
   "mimetype": "text/x-python",
   "name": "python",
   "nbconvert_exporter": "python",
   "pygments_lexer": "ipython3",
   "version": "3.9.16"
  }
 },
 "nbformat": 4,
 "nbformat_minor": 5
}
