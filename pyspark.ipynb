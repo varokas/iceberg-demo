{
 "cells": [
  {
   "cell_type": "code",
   "execution_count": 2,
   "id": "e9bfb127-de72-4f2b-8624-91c1c80f1079",
   "metadata": {
    "tags": []
   },
   "outputs": [],
   "source": [
    "from pyspark.sql import SparkSession\n",
    "\n",
    "ICEBERG_VERSION=\"1.1.0\"\n",
    "ICEBERG_DEPENDENCY=f\"org.apache.iceberg:iceberg-spark-runtime-3.3_2.12:{ICEBERG_VERSION}\"\n",
    "\n",
    "AWS_SDK_VERSION=\"2.17.257\"\n",
    "AWS_MAVEN_GROUP=\"software.amazon.awssdk\"\n",
    "AWS_PACKAGES = [\"bundle\", \"url-connection-client\"]\n",
    "\n",
    "DEPENDENCIES = [ICEBERG_DEPENDENCY] + [f\"{AWS_MAVEN_GROUP}:{pkg}:{AWS_SDK_VERSION}\" for pkg in AWS_PACKAGES]\n",
    "\n",
    "spark = SparkSession.builder \\\n",
    "    .master(\"local\") \\\n",
    "    .config(\"spark.jars.packages\", \",\".join(DEPENDENCIES)) \\\n",
    "    .config(\"spark.sql.catalog.glue_catalog\", \"org.apache.iceberg.spark.SparkCatalog\") \\\n",
    "    .config(\"spark.sql.catalog.glue_catalog.warehouse\", \"s3://varokas-iceberg-demo/iceberg\") \\\n",
    "    .config(\"spark.sql.catalog.glue_catalog.catalog-impl\", \"org.apache.iceberg.aws.glue.GlueCatalog\") \\\n",
    "    .config(\"spark.sql.catalog.glue_catalog.io-impl\", \"org.apache.iceberg.aws.s3.S3FileIO\") \\\n",
    "    .config(\"spark.ui.enabled\", \"false\") \\\n",
    "    .getOrCreate()"
   ]
  },
  {
   "cell_type": "code",
   "execution_count": 3,
   "id": "97c08364-4db5-49c6-b232-9ad71c5daf07",
   "metadata": {
    "tags": []
   },
   "outputs": [],
   "source": [
    "# https://www.kaggle.com/competitions/nyc-taxi-trip-duration/code\n",
    "import pandas as pd\n",
    "pdDF = pd.read_csv(\"test.zip\")[[\"vendor_id\", \"pickup_datetime\", \"passenger_count\"]]\n",
    "pdDF['pickup_datetime'] = pd.to_datetime(pdDF['pickup_datetime'])"
   ]
  },
  {
   "cell_type": "code",
   "execution_count": 15,
   "id": "ec436fba-f600-4560-9893-397b95e933ef",
   "metadata": {
    "tags": []
   },
   "outputs": [
    {
     "data": {
      "text/plain": [
       "312567"
      ]
     },
     "execution_count": 15,
     "metadata": {},
     "output_type": "execute_result"
    }
   ],
   "source": [
    "int(len(pdDF)/2)"
   ]
  },
  {
   "cell_type": "code",
   "execution_count": 18,
   "id": "1d874081-4e17-47a7-b08d-7f26b15ab12d",
   "metadata": {
    "tags": []
   },
   "outputs": [],
   "source": [
    "first_half = pdDF[:int(len(pdDF)/2)]\n",
    "second_half = pdDF[int(len(pdDF)/2):]"
   ]
  },
  {
   "cell_type": "code",
   "execution_count": 19,
   "id": "bd108d67-310b-4abd-a098-3534da400329",
   "metadata": {
    "tags": []
   },
   "outputs": [
    {
     "name": "stderr",
     "output_type": "stream",
     "text": [
      "/Users/varokas/projects/iceberg-demo/.venv/lib/python3.9/site-packages/pyspark/sql/pandas/conversion.py:474: FutureWarning: iteritems is deprecated and will be removed in a future version. Use .items instead.\n",
      "  for column, series in pdf.iteritems():\n",
      "/Users/varokas/projects/iceberg-demo/.venv/lib/python3.9/site-packages/pyspark/sql/pandas/conversion.py:486: FutureWarning: iteritems is deprecated and will be removed in a future version. Use .items instead.\n",
      "  for column, series in pdf.iteritems():\n"
     ]
    }
   ],
   "source": [
    "df1 = spark.createDataFrame(first_half)"
   ]
  },
  {
   "cell_type": "code",
   "execution_count": 20,
   "id": "9d3d8047-c66f-40dd-aa72-67fafed40f83",
   "metadata": {
    "tags": []
   },
   "outputs": [
    {
     "name": "stdout",
     "output_type": "stream",
     "text": [
      "23/02/18 16:11:46 WARN TaskSetManager: Stage 1 contains a task of very large size (4591 KiB). The maximum recommended task size is 1000 KiB.\n"
     ]
    },
    {
     "name": "stderr",
     "output_type": "stream",
     "text": [
      "                                                                                \r"
     ]
    }
   ],
   "source": [
    "df1.writeTo(\"glue_catalog.iceberg_demo.nyc_taxis\").append()"
   ]
  },
  {
   "cell_type": "code",
   "execution_count": 21,
   "id": "5a7ce267-5a74-4234-8abf-7c9a026cf431",
   "metadata": {
    "tags": []
   },
   "outputs": [],
   "source": [
    "df2 = spark.createDataFrame(second_half)"
   ]
  },
  {
   "cell_type": "code",
   "execution_count": 22,
   "id": "85015cd8-7fda-4869-9151-3b7edc25ee8b",
   "metadata": {
    "tags": []
   },
   "outputs": [
    {
     "name": "stdout",
     "output_type": "stream",
     "text": [
      "23/02/18 16:13:29 WARN SparkWriteBuilder: Skipping distribution/ordering: extensions are disabled and spec contains unsupported transforms\n",
      "23/02/18 16:13:29 WARN TaskSetManager: Stage 2 contains a task of very large size (4591 KiB). The maximum recommended task size is 1000 KiB.\n"
     ]
    },
    {
     "name": "stderr",
     "output_type": "stream",
     "text": [
      "                                                                                \r"
     ]
    }
   ],
   "source": [
    "df2.writeTo(\"glue_catalog.iceberg_demo.nyc_taxis\").append()"
   ]
  },
  {
   "cell_type": "code",
   "execution_count": null,
   "id": "28e4e184-0d09-4ede-b395-fd01c17be650",
   "metadata": {},
   "outputs": [],
   "source": []
  }
 ],
 "metadata": {
  "kernelspec": {
   "display_name": "Python 3 (ipykernel)",
   "language": "python",
   "name": "python3"
  },
  "language_info": {
   "codemirror_mode": {
    "name": "ipython",
    "version": 3
   },
   "file_extension": ".py",
   "mimetype": "text/x-python",
   "name": "python",
   "nbconvert_exporter": "python",
   "pygments_lexer": "ipython3",
   "version": "3.9.16"
  },
  "vscode": {
   "interpreter": {
    "hash": "a57070c5a2410076262f9851e0c82d27b7abb59cd8b158ba4ec247face25c970"
   }
  }
 },
 "nbformat": 4,
 "nbformat_minor": 5
}
